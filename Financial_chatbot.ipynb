{
  "nbformat": 4,
  "nbformat_minor": 0,
  "metadata": {
    "colab": {
      "provenance": [],
      "gpuType": "T4"
    },
    "kernelspec": {
      "name": "python3",
      "display_name": "Python 3"
    },
    "language_info": {
      "name": "python"
    },
    "accelerator": "GPU"
  },
  "cells": [
    {
      "cell_type": "code",
      "execution_count": 1,
      "metadata": {
        "id": "ZQCc0QFIJKH4"
      },
      "outputs": [],
      "source": [
        "import numpy as np\n",
        "import pandas as pd"
      ]
    },
    {
      "cell_type": "code",
      "source": [
        "def simple_chatbot(user_query):\n",
        "    # Predefined queries and their responses\n",
        "\n",
        "    predefined_queries = {\n",
        "        \"Hi\": \"Hello! How can I assist you today?\",\n",
        "        \"How are you?\": \"I'm just a chatbot, but I'm here to help!\",\n",
        "        \"What is total revenue of microsoft?\": \"The total revenue of Microsoft $211,915 million.\",\n",
        "        \"What is total revenue of apple?\": \"The total revenue of apple $383,285 million.\",\n",
        "        \"What is total revenue of tesla?\": \"The total revenue of tesla $96,773 million.\",\n",
        "        \"How has net income changed over the last year?\": \"The net income has decreased by 6% over the last year.\",\n",
        "        \"Which company shows the increasing growth revenue?\":\"Tesla shows the increasing revenue growth.\",\n",
        "        \"Which company shows the stability overall?\": \"Microsoft shows more stability than Apple overall.\"\n",
        "    }\n",
        "\n",
        "    if user_query in predefined_queries:\n",
        "        return predefined_queries[user_query]\n",
        "    else:\n",
        "        return \"Sorry, I can only provide information on predefined queries.\"\n"
      ],
      "metadata": {
        "id": "VH64wTPOJUBt"
      },
      "execution_count": 9,
      "outputs": []
    },
    {
      "cell_type": "code",
      "source": [
        "# Function to start the chatbot interaction\n",
        "def start_chatbot():\n",
        "    print(\"Welcome to the Financial chatbot!\")\n",
        "\n",
        "    while True:\n",
        "        user_query = input(\"Please ask your query (or type 'exit' to quit): \")\n",
        "        if user_query.lower() == \"exit\":\n",
        "            print(\"Good Bye\")\n",
        "            break\n",
        "\n",
        "        response = simple_chatbot(user_query)\n",
        "        print(response)\n",
        "\n",
        "# Main program execution\n",
        "if __name__ == \"__main__\":\n",
        "    start_chatbot()"
      ],
      "metadata": {
        "colab": {
          "base_uri": "https://localhost:8080/"
        },
        "id": "PJmkGreVJb9V",
        "outputId": "1d22ab41-cb12-4858-9456-3d9be95842c3"
      },
      "execution_count": 10,
      "outputs": [
        {
          "output_type": "stream",
          "name": "stdout",
          "text": [
            "Welcome to the Financial chatbot!\n",
            "Please ask your query (or type 'exit' to quit): Hi\n",
            "Hello! How can I assist you today?\n",
            "Please ask your query (or type 'exit' to quit): What is total revenue of apple?\n",
            "The total revenue of apple $383,285 million.\n",
            "Please ask your query (or type 'exit' to quit): What is total revenue of microsoft?\n",
            "The total revenue of Microsoft $211,915 million.\n",
            "Please ask your query (or type 'exit' to quit): What is total revenue of tesla?\n",
            "The total revenue of tesla $96,773 million.\n",
            "Please ask your query (or type 'exit' to quit): Which company shows the stability overall?\n",
            "Microsoft shows more stability than Apple overall.\n",
            "Please ask your query (or type 'exit' to quit): Which company shows the increasing growth revenue?\n",
            "Tesla shows the increasing revenue growth.\n",
            "Please ask your query (or type 'exit' to quit): Hello\n",
            "Sorry, I can only provide information on predefined queries.\n",
            "Please ask your query (or type 'exit' to quit): How are you?\n",
            "I'm just a chatbot, but I'm here to help!\n",
            "Please ask your query (or type 'exit' to quit): How has net income changed over the last year?\n",
            "The net income has decreased by 6% over the last year.\n",
            "Please ask your query (or type 'exit' to quit): exit\n",
            "Good Bye\n"
          ]
        }
      ]
    },
    {
      "cell_type": "markdown",
      "source": [],
      "metadata": {
        "id": "xFV53Tkw3GSg"
      }
    },
    {
      "cell_type": "code",
      "source": [],
      "metadata": {
        "id": "dQ3KCqI6JmXP"
      },
      "execution_count": null,
      "outputs": []
    }
  ]
}